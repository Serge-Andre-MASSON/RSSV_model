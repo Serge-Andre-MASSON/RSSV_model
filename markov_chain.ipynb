{
 "cells": [
  {
   "cell_type": "markdown",
   "metadata": {},
   "source": [
    "A continuous time markov chain $X$ is defined by\n",
    "$$\\mathbb{P}(X_{t + dt} = j | X_t = i) = \\delta_{ij} + q_{ij}dt$$\n",
    "where $Q=(q_{ij})$ is an intensity matrix, that is\n",
    "$$q_{ij} \\geq 0,\\ i\\neq j$$\n",
    "$$\\sum_j q_{ij} = 0$$"
   ]
  },
  {
   "cell_type": "code",
   "execution_count": 2,
   "metadata": {},
   "outputs": [
    {
     "data": {
      "text/plain": [
       "array([[-3.,  1.,  2.],\n",
       "       [ 5., -9.,  4.],\n",
       "       [ 6.,  3., -9.]])"
      ]
     },
     "execution_count": 2,
     "metadata": {},
     "output_type": "execute_result"
    }
   ],
   "source": [
    "from stochastic_process.markov_chain import MarkovChain\n",
    "\n",
    "X = MarkovChain(1, 2, 5, 4, 6, 3)\n",
    "X.Q"
   ]
  },
  {
   "cell_type": "markdown",
   "metadata": {},
   "source": [
    "Assuming $X$ is homogeneous in time, the matrix\n",
    "$$P(\\delta_t) = I + Q \\delta_t$$\n",
    "describe probabilities for $X$ to switch from one state to another within the $\\delta_t$ time interval."
   ]
  },
  {
   "cell_type": "code",
   "execution_count": 3,
   "metadata": {},
   "outputs": [
    {
     "data": {
      "text/plain": [
       "array([[0.94, 0.02, 0.04],\n",
       "       [0.1 , 0.82, 0.08],\n",
       "       [0.12, 0.06, 0.82]])"
      ]
     },
     "execution_count": 3,
     "metadata": {},
     "output_type": "execute_result"
    }
   ],
   "source": [
    "X.P(delta_t=0.02)"
   ]
  },
  {
   "cell_type": "markdown",
   "metadata": {},
   "source": [
    "Note that $\\delta_t$ must indeed be sufficiently small for $P(\\delta_t)$ to be a probability matrix. For example $\\delta_t = 0.2$ will be too large:"
   ]
  },
  {
   "cell_type": "code",
   "execution_count": 4,
   "metadata": {},
   "outputs": [
    {
     "data": {
      "text/plain": [
       "array([[ 0.4,  0.2,  0.4],\n",
       "       [ 1. , -0.8,  0.8],\n",
       "       [ 1.2,  0.6, -0.8]])"
      ]
     },
     "execution_count": 4,
     "metadata": {},
     "output_type": "execute_result"
    }
   ],
   "source": [
    "X.P(delta_t=0.2) # Return a matrix P with negative coefficients."
   ]
  },
  {
   "cell_type": "markdown",
   "metadata": {},
   "source": [
    "Now, given that $X$ is in a given state $i$, we generate a random number $r$ in the interval $[0, 1[$.\n",
    "If $\\delta_t = 0.02$, then \n",
    "$$P(\\delta_t) = \\left(\\begin{aligned}\n",
    "    0.94 && 0.02 && 0.04\\\\\n",
    "    0.1 && 0.82 && 0.08\\\\\n",
    "    0.12 && 0.06 && 0.82\n",
    "\\end{aligned}\\right)$$\n",
    "Assume that $X_t$ is in state 1, the probability for $X_{t+dt}$ to be in state\n",
    "- 0 is 0.1\n",
    "- 1 is 0.82\n",
    "- 2 is 0.08\n",
    "\n",
    "To simulate this, a number $r$ is randomly choose within the interval $[0,\\ 1[$ and we consider the matrix $A$ defined by\n",
    "$$ A = P(\\delta_t)U =  \\left(\\begin{aligned}\n",
    "    0.94 && 0.96 && 1\\\\\n",
    "    0.1 && 0.92 && 1\\\\\n",
    "    0.12 && 0.18 && 1\n",
    "\\end{aligned}\\right)$$\n",
    "where \n",
    "$$U = \\left(\\begin{aligned}\n",
    "    1 && 1 && 1\\\\\n",
    "    0 && 1 && 1\\\\\n",
    "    0 && 0 && 1\n",
    "\\end{aligned}\\right)$$ \n",
    "\n",
    "We then consider row 1 of $A$, for $X$^is in state 1, and replace each value by the boolean \"$(r<A)$\". For example, if $r = 0.3$ :\n",
    "$$(0.1\\ 0.92 \\ 1) \\longrightarrow (False,\\ True,\\ True)$$\n",
    "then the next state of $X$ is the index of the first True value in \"$(r<A)$\"."
   ]
  }
 ],
 "metadata": {
  "interpreter": {
   "hash": "f98f02d7c4649a0fe2e0d0de83870e925918ef0e2d0ab387703e66fb704a2c3f"
  },
  "kernelspec": {
   "display_name": "Python 3.9.7 ('.rssv_model': venv)",
   "language": "python",
   "name": "python3"
  },
  "language_info": {
   "codemirror_mode": {
    "name": "ipython",
    "version": 3
   },
   "file_extension": ".py",
   "mimetype": "text/x-python",
   "name": "python",
   "nbconvert_exporter": "python",
   "pygments_lexer": "ipython3",
   "version": "3.9.7"
  },
  "orig_nbformat": 4
 },
 "nbformat": 4,
 "nbformat_minor": 2
}
